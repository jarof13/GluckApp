{
 "cells": [
  {
   "cell_type": "markdown",
   "id": "9739136a",
   "metadata": {},
   "source": [
    "# Creación de la BBDD \n",
    "\n",
    "Con el objetivo de organizar los datos suministrados, se utilizará Python para leer el archivo Excel y crear una base de datos en SQLite (en este caso se considero la mejor opción debido a su ligereza y portabilidad) para la empresa Gluck. Esto permitirá agilizar el proceso de inserción de datos en las distintas entidades que se emplearán en la investigación, la cual busca comprender qué está ocurriendo con los clientes actuales, cómo se comportan los distintos segmentos y cómo captar la atención de nuevos públicos."
   ]
  },
  {
   "cell_type": "code",
   "execution_count": 5,
   "id": "6b6efd1f",
   "metadata": {},
   "outputs": [
    {
     "name": "stdout",
     "output_type": "stream",
     "text": [
      "Tabla 'sales_data' creada con éxito.\n",
      "Tabla 'customer_data' creada con éxito.\n",
      "Tabla 'campaign_data' creada con éxito.\n",
      "Tabla 'web_analytics' creada con éxito.\n",
      "Tabla 'gender' creada con éxito.\n",
      "Tabla 'location' creada con éxito.\n",
      "Tabla 'provincia' creada con éxito.\n"
     ]
    }
   ],
   "source": [
    "import  pandas as pd\n",
    "from    sqlalchemy import create_engine\n",
    "\n",
    "# Ruta al archivo Excel\n",
    "excel_path = 'Datasets_caso_practico_v2.xlsx'  \n",
    "\n",
    "# Crear conexión a base de datos SQLite\n",
    "engine = create_engine('sqlite:///gluck_data.db')\n",
    "\n",
    "# Cargar todas las hojas del archivo Excel\n",
    "sheets = pd.read_excel(excel_path, sheet_name=None)\n",
    "\n",
    "# Guardar cada hoja como una tabla en SQLite\n",
    "for sheet_name, df in sheets.items():\n",
    "    table_name = sheet_name.lower().replace(\" \", \"_\")  \n",
    "    df.to_sql(table_name, con=engine, if_exists='replace', index=False)\n",
    "    print(f\"Tabla '{table_name}' creada con éxito.\")\n"
   ]
  }
 ],
 "metadata": {
  "kernelspec": {
   "display_name": "Python 3",
   "language": "python",
   "name": "python3"
  },
  "language_info": {
   "codemirror_mode": {
    "name": "ipython",
    "version": 3
   },
   "file_extension": ".py",
   "mimetype": "text/x-python",
   "name": "python",
   "nbconvert_exporter": "python",
   "pygments_lexer": "ipython3",
   "version": "3.13.0"
  }
 },
 "nbformat": 4,
 "nbformat_minor": 5
}
